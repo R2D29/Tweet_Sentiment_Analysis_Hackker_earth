{
  "nbformat": 4,
  "nbformat_minor": 0,
  "metadata": {
    "colab": {
      "name": "Hackerearth_tweet_sentiment.ipynb",
      "provenance": [],
      "mount_file_id": "1mWZdzzVGIWc3NSHPfv23sAc39fmQMIXl",
      "authorship_tag": "ABX9TyPGeSE5TVOcZoVPPr3uoyeq",
      "include_colab_link": true
    },
    "kernelspec": {
      "name": "python3",
      "display_name": "Python 3"
    },
    "accelerator": "GPU"
  },
  "cells": [
    {
      "cell_type": "markdown",
      "metadata": {
        "id": "view-in-github",
        "colab_type": "text"
      },
      "source": [
        "<a href=\"https://colab.research.google.com/github/R2D29/Tweet_Sentiment_Analysis_Hackker_earth/blob/master/Hackerearth_tweet_sentiment.ipynb\" target=\"_parent\"><img src=\"https://colab.research.google.com/assets/colab-badge.svg\" alt=\"Open In Colab\"/></a>"
      ]
    },
    {
      "cell_type": "code",
      "metadata": {
        "id": "aghgvJLMkdLi",
        "colab_type": "code",
        "colab": {}
      },
      "source": [
        "import numpy as np\n",
        "import pandas as pd\n",
        "import matplotlib.pyplot as plt\n"
      ],
      "execution_count": null,
      "outputs": []
    },
    {
      "cell_type": "code",
      "metadata": {
        "id": "Dp_bTWhVxKWe",
        "colab_type": "code",
        "colab": {}
      },
      "source": [
        "df=pd.read_csv('/content/drive/My Drive/train.csv')\n",
        "df_test=pd.read_csv('/content/drive/My Drive/test.csv')"
      ],
      "execution_count": null,
      "outputs": []
    },
    {
      "cell_type": "code",
      "metadata": {
        "id": "XAZT4f7r8qmC",
        "colab_type": "code",
        "colab": {
          "base_uri": "https://localhost:8080/",
          "height": 243
        },
        "outputId": "033032fe-bbdc-42fb-83b8-e4ff96e968c5"
      },
      "source": [
        "df.info()"
      ],
      "execution_count": null,
      "outputs": [
        {
          "output_type": "stream",
          "text": [
            "<class 'pandas.core.frame.DataFrame'>\n",
            "RangeIndex: 3235 entries, 0 to 3234\n",
            "Data columns (total 6 columns):\n",
            " #   Column           Non-Null Count  Dtype  \n",
            "---  ------           --------------  -----  \n",
            " 0   id               3235 non-null   float64\n",
            " 1   original_text    3235 non-null   object \n",
            " 2   lang             3231 non-null   object \n",
            " 3   retweet_count    3231 non-null   object \n",
            " 4   original_author  3235 non-null   object \n",
            " 5   sentiment_class  3235 non-null   int64  \n",
            "dtypes: float64(1), int64(1), object(4)\n",
            "memory usage: 151.8+ KB\n"
          ],
          "name": "stdout"
        }
      ]
    },
    {
      "cell_type": "code",
      "metadata": {
        "id": "3wZ_X-vu88Pl",
        "colab_type": "code",
        "colab": {
          "base_uri": "https://localhost:8080/",
          "height": 225
        },
        "outputId": "ea94621a-1658-4987-ddd4-1c27ee3d4296"
      },
      "source": [
        "df_test.info()"
      ],
      "execution_count": null,
      "outputs": [
        {
          "output_type": "stream",
          "text": [
            "<class 'pandas.core.frame.DataFrame'>\n",
            "RangeIndex: 1387 entries, 0 to 1386\n",
            "Data columns (total 5 columns):\n",
            " #   Column           Non-Null Count  Dtype  \n",
            "---  ------           --------------  -----  \n",
            " 0   id               1387 non-null   float64\n",
            " 1   original_text    1387 non-null   object \n",
            " 2   lang             1387 non-null   object \n",
            " 3   retweet_count    1386 non-null   object \n",
            " 4   original_author  1387 non-null   object \n",
            "dtypes: float64(1), object(4)\n",
            "memory usage: 54.3+ KB\n"
          ],
          "name": "stdout"
        }
      ]
    },
    {
      "cell_type": "code",
      "metadata": {
        "id": "dyuZSpEQ9CE8",
        "colab_type": "code",
        "colab": {}
      },
      "source": [
        "dataset=df.merge(df_test, on=['id','original_text','lang','retweet_count','original_author'], how='outer' )"
      ],
      "execution_count": null,
      "outputs": []
    },
    {
      "cell_type": "code",
      "metadata": {
        "id": "xcjdMzIFAjPj",
        "colab_type": "code",
        "colab": {
          "base_uri": "https://localhost:8080/",
          "height": 243
        },
        "outputId": "eb45e0dd-560d-495c-d7f6-6838f9e6b571"
      },
      "source": [
        "dataset.info()"
      ],
      "execution_count": null,
      "outputs": [
        {
          "output_type": "stream",
          "text": [
            "<class 'pandas.core.frame.DataFrame'>\n",
            "Int64Index: 4622 entries, 0 to 4621\n",
            "Data columns (total 6 columns):\n",
            " #   Column           Non-Null Count  Dtype  \n",
            "---  ------           --------------  -----  \n",
            " 0   id               4622 non-null   float64\n",
            " 1   original_text    4622 non-null   object \n",
            " 2   lang             4618 non-null   object \n",
            " 3   retweet_count    4617 non-null   object \n",
            " 4   original_author  4622 non-null   object \n",
            " 5   sentiment_class  3235 non-null   float64\n",
            "dtypes: float64(2), object(4)\n",
            "memory usage: 252.8+ KB\n"
          ],
          "name": "stdout"
        }
      ]
    },
    {
      "cell_type": "code",
      "metadata": {
        "id": "e9fXUn4p9Zfa",
        "colab_type": "code",
        "colab": {
          "base_uri": "https://localhost:8080/",
          "height": 202
        },
        "outputId": "7e57f733-a543-4e64-c980-62f5f0b786cc"
      },
      "source": [
        "dataset.head(5)"
      ],
      "execution_count": null,
      "outputs": [
        {
          "output_type": "execute_result",
          "data": {
            "text/html": [
              "<div>\n",
              "<style scoped>\n",
              "    .dataframe tbody tr th:only-of-type {\n",
              "        vertical-align: middle;\n",
              "    }\n",
              "\n",
              "    .dataframe tbody tr th {\n",
              "        vertical-align: top;\n",
              "    }\n",
              "\n",
              "    .dataframe thead th {\n",
              "        text-align: right;\n",
              "    }\n",
              "</style>\n",
              "<table border=\"1\" class=\"dataframe\">\n",
              "  <thead>\n",
              "    <tr style=\"text-align: right;\">\n",
              "      <th></th>\n",
              "      <th>id</th>\n",
              "      <th>original_text</th>\n",
              "      <th>lang</th>\n",
              "      <th>retweet_count</th>\n",
              "      <th>original_author</th>\n",
              "      <th>sentiment_class</th>\n",
              "    </tr>\n",
              "  </thead>\n",
              "  <tbody>\n",
              "    <tr>\n",
              "      <th>0</th>\n",
              "      <td>1.245025e+18</td>\n",
              "      <td>Happy #MothersDay to all you amazing mothers o...</td>\n",
              "      <td>en</td>\n",
              "      <td>0</td>\n",
              "      <td>BeenXXPired</td>\n",
              "      <td>0.0</td>\n",
              "    </tr>\n",
              "    <tr>\n",
              "      <th>1</th>\n",
              "      <td>1.245759e+18</td>\n",
              "      <td>Happy Mothers Day Mum - I'm sorry I can't be t...</td>\n",
              "      <td>en</td>\n",
              "      <td>1</td>\n",
              "      <td>FestiveFeeling</td>\n",
              "      <td>0.0</td>\n",
              "    </tr>\n",
              "    <tr>\n",
              "      <th>2</th>\n",
              "      <td>1.246087e+18</td>\n",
              "      <td>Happy mothers day To all This doing a mothers ...</td>\n",
              "      <td>en</td>\n",
              "      <td>0</td>\n",
              "      <td>KrisAllenSak</td>\n",
              "      <td>-1.0</td>\n",
              "    </tr>\n",
              "    <tr>\n",
              "      <th>3</th>\n",
              "      <td>1.244803e+18</td>\n",
              "      <td>Happy mothers day to this beautiful woman...ro...</td>\n",
              "      <td>en</td>\n",
              "      <td>0</td>\n",
              "      <td>Queenuchee</td>\n",
              "      <td>0.0</td>\n",
              "    </tr>\n",
              "    <tr>\n",
              "      <th>4</th>\n",
              "      <td>1.244876e+18</td>\n",
              "      <td>Remembering the 3 most amazing ladies who made...</td>\n",
              "      <td>en</td>\n",
              "      <td>0</td>\n",
              "      <td>brittan17446794</td>\n",
              "      <td>-1.0</td>\n",
              "    </tr>\n",
              "  </tbody>\n",
              "</table>\n",
              "</div>"
            ],
            "text/plain": [
              "             id  ... sentiment_class\n",
              "0  1.245025e+18  ...             0.0\n",
              "1  1.245759e+18  ...             0.0\n",
              "2  1.246087e+18  ...            -1.0\n",
              "3  1.244803e+18  ...             0.0\n",
              "4  1.244876e+18  ...            -1.0\n",
              "\n",
              "[5 rows x 6 columns]"
            ]
          },
          "metadata": {
            "tags": []
          },
          "execution_count": 9
        }
      ]
    },
    {
      "cell_type": "code",
      "metadata": {
        "id": "de_lCWMR9c4k",
        "colab_type": "code",
        "colab": {
          "base_uri": "https://localhost:8080/",
          "height": 35
        },
        "outputId": "c1b3476d-c05b-4b63-cccf-b528034d4cc5"
      },
      "source": [
        "dataset['original_text'].isnull().any()"
      ],
      "execution_count": null,
      "outputs": [
        {
          "output_type": "execute_result",
          "data": {
            "text/plain": [
              "False"
            ]
          },
          "metadata": {
            "tags": []
          },
          "execution_count": 10
        }
      ]
    },
    {
      "cell_type": "code",
      "metadata": {
        "id": "HUHvqC40sXW3",
        "colab_type": "code",
        "colab": {
          "base_uri": "https://localhost:8080/",
          "height": 211
        },
        "outputId": "8124ca7a-08e6-4b31-e980-d0567a93783a"
      },
      "source": [
        "X=dataset['original_text']\n",
        "for i in range (0,10):\n",
        "  print(X[i])"
      ],
      "execution_count": null,
      "outputs": [
        {
          "output_type": "stream",
          "text": [
            "Happy #MothersDay to all you amazing mothers out there! I know it's hard not being able to see your mothers today but it's on all of us to do what we can to protect the most vulnerable members of our society. #BeatCoronaVirus pic.twitter.com/va4nFjFQ5B\n",
            "Happy Mothers Day Mum - I'm sorry I can't be there to bring you Mothers day flowers & a cwtch - honestly at this point I'd walk on hot coals to be able to. But I'll be there with bells on as soon as I can be. Love you lots xxx (p.s we need more photos!) https:// photos.app.goo.gl/M3vXBLrsCzD4TE bY7 …\n",
            "Happy mothers day To all This doing a mothers days work. Today been quiet but Had time to reflect. Dog walk, finish a jigsaw do the garden, learn few more guitar chords, drunk some strawberry gin and tonic and watch Lee evens on DVD. My favourite place to visit. #isolate pic.twitter.com/GZ0xVvF6f9\n",
            "Happy mothers day to this beautiful woman...royalty soothes you mummy jeremy and emerald and more #PrayForRoksie #UltimateLoveNG pic.twitter.com/oeetI22Pvv\n",
            "Remembering the 3 most amazing ladies who made me who I am! My late grandmother iris, mum carol and great grandmother Ethel. Missed but never forgotten! Happy mothers day to all those great mums out there! Love sent to all xxxx pic.twitter.com/xZZZdEybjE\n",
            "HAPPY MOTHER’S DAY! BRATZ WORLD FAMILIEZ YASMIN & HER MUM! (PORTIA) #bratz #bratzworldfamiliez #bratz2008 #bratzkidz #bratzyasmin #bratzportia #theonlygirlswithapassionforfashion #bratzdolls #bratzcollector #happymothersday #mothersday #mothersday2020 #azdoesmakeup pic.twitter.com/5m1T81zhpU\n",
            "Happy Mother’s Day to all you wonderful mums out there! #mothersday #cupcakes #supermums #traceyscakecraft #couturesugarpaste #saracinouk #hinckley @Tracey's CakeCraft https://www. instagram.com/p/B-CUzHjg-Au/ ?igshid=lf3elmlv7q7g …\n",
            "Show me a mother of two as sexy as Rosie Happy Mothers Day beautiful Rosie @officiallrosie I love you #HappyMothersDayRosie #HappyMothersDay2020 #WhyILoveRoksie #Roksie pic.twitter.com/6oMZGHcIVe\n",
            "To all the mothers, grandmothers, aunts, sisters and women in our lives who care for and love us unconditionally, Happy Mothers’ Day ! #MothersDay pic.twitter.com/ejatt1aH4z\n",
            "To all the mothers around the World, Gas To Health Initiative wishes them a Happy Mother's Day! - #gthi #mothersday2020 #MotheringSunday #MothersDay #lpg #motherhood #motherslove #gastohealth #argus #lpgn #nigeria #cookinggas #Cooking #MothersDayShoutOut #mothers #mama pic.twitter.com/csq1jOiC1z\n"
          ],
          "name": "stdout"
        }
      ]
    },
    {
      "cell_type": "code",
      "metadata": {
        "id": "i3htSzbFT8nE",
        "colab_type": "code",
        "colab": {
          "base_uri": "https://localhost:8080/",
          "height": 52
        },
        "outputId": "f66647ba-6703-47ff-e32b-948442a625b1"
      },
      "source": [
        "import nltk\n",
        "nltk.download('stopwords')\n",
        "from nltk.corpus import stopwords\n",
        "import re\n",
        "tweet=[]\n",
        "for i in range(0,len(X)):\n",
        "  dummy= re.sub(r'^https?:\\/\\/.*[\\r\\n]*', '', X[i], flags=re.MULTILINE)\n",
        "  dummy=' '.join(re.sub(\"(@[A-Za-z0-9]+)|([^0-9A-Za-z \\t])|(\\w+:\\/\\/\\S+)|http\\S+\",\" \",X[i]).split())\n",
        "  dummy= re.sub(r\"(?:\\@|https?\\://)\\S+\", \"\", X[i])\n",
        "  dummy= re.sub(\"\\\\s*[^ /]+/[^ /]+\",\"\", X[i])\n",
        "  dummy=re.sub(r'http\\S+',' ',X[i])\n",
        "  dummy= re.sub('@[^\\s]+','',X[i])\n",
        "  #dummy=re.sub('^.', '', X[i])\n",
        "  dummy = re.sub(\"(@[A-Za-z0–9]+)|([^-9A-Za-z \\t])|(\\w+:\\/\\/\\S+)\",\" \",X[i])\n",
        "  tweet.append(dummy)"
      ],
      "execution_count": null,
      "outputs": [
        {
          "output_type": "stream",
          "text": [
            "[nltk_data] Downloading package stopwords to /root/nltk_data...\n",
            "[nltk_data]   Unzipping corpora/stopwords.zip.\n"
          ],
          "name": "stdout"
        }
      ]
    },
    {
      "cell_type": "code",
      "metadata": {
        "id": "Pd92bdt7tAbZ",
        "colab_type": "code",
        "colab": {
          "base_uri": "https://localhost:8080/",
          "height": 211
        },
        "outputId": "be6590b5-d6d0-418c-864f-eb32c0582176"
      },
      "source": [
        "for i in range(0,10):\n",
        "  print(tweet[i])"
      ],
      "execution_count": null,
      "outputs": [
        {
          "output_type": "stream",
          "text": [
            "Happy  MothersDay to all you amazing mothers out there  I know it s hard not being able to see your mothers today but it s on all of us to do what we can to protect the most vulnerable members of our society   BeatCoronaVirus pic twitter com va nFjFQ B\n",
            "Happy Mothers Day Mum - I m sorry I can t be there to bring you Mothers day flowers   a cwtch - honestly at this point I d walk on hot coals to be able to  But I ll be there with bells on as soon as I can be  Love you lots xxx  p s we need more photos   https    photos app goo gl M vXBLrsCzD TE bY   \n",
            "Happy mothers day To all This doing a mothers days work  Today been quiet but Had time to reflect  Dog walk  finish a jigsaw do the garden  learn few more guitar chords  drunk some strawberry gin and tonic and watch Lee evens on DVD  My favourite place to visit   isolate pic twitter com GZ xVvF f9\n",
            "Happy mothers day to this beautiful woman   royalty soothes you mummy jeremy and emerald and more  PrayForRoksie  UltimateLoveNG pic twitter com oeetI  Pvv\n",
            "Remembering the   most amazing ladies who made me who I am  My late grandmother iris  mum carol and great grandmother Ethel  Missed but never forgotten  Happy mothers day to all those great mums out there  Love sent to all xxxx pic twitter com xZZZdEybjE\n",
            "HAPPY MOTHER S DAY  BRATZ WORLD FAMILIEZ YASMIN   HER MUM   PORTIA   bratz  bratzworldfamiliez  bratz      bratzkidz  bratzyasmin  bratzportia  theonlygirlswithapassionforfashion  bratzdolls  bratzcollector  happymothersday  mothersday  mothersday      azdoesmakeup pic twitter com  m T  zhpU\n",
            "Happy Mother s Day to all you wonderful mums out there   mothersday  cupcakes  supermums  traceyscakecraft  couturesugarpaste  saracinouk  hinckley   s CakeCraft   instagram com p B-CUzHjg-Au   igshid lf elmlv q g  \n",
            "Show me a mother of two as sexy as Rosie Happy Mothers Day beautiful Rosie   I love you  HappyMothersDayRosie  HappyMothersDay      WhyILoveRoksie  Roksie pic twitter com  oMZGHcIVe\n",
            "To all the mothers  grandmothers  aunts  sisters and women in our lives who care for and love us unconditionally  Happy Mothers  Day    MothersDay pic twitter com ejatt aH z\n",
            "To all the mothers around the World  Gas To Health Initiative wishes them a Happy Mother s Day  -  gthi  mothersday      MotheringSunday  MothersDay  lpg  motherhood  motherslove  gastohealth  argus  lpgn  nigeria  cookinggas  Cooking  MothersDayShoutOut  mothers  mama pic twitter com csq jOiC z\n"
          ],
          "name": "stdout"
        }
      ]
    },
    {
      "cell_type": "code",
      "metadata": {
        "id": "kKkEZZ869eec",
        "colab_type": "code",
        "colab": {
          "base_uri": "https://localhost:8080/",
          "height": 52
        },
        "outputId": "32715729-ddaa-4700-a1e6-c9091230ac6f"
      },
      "source": [
        "import nltk\n",
        "nltk.download('wordnet')\n",
        "\n",
        "w_tokenizer = nltk.tokenize.WhitespaceTokenizer()\n",
        "lemmatizer = nltk.stem.WordNetLemmatizer()\n",
        "\n",
        "def lemmatize_text(text):\n",
        "  for i in range(0,len(text)):\n",
        "    text=text.lower()\n",
        "    return [text]"
      ],
      "execution_count": null,
      "outputs": [
        {
          "output_type": "stream",
          "text": [
            "[nltk_data] Downloading package wordnet to /root/nltk_data...\n",
            "[nltk_data]   Package wordnet is already up-to-date!\n"
          ],
          "name": "stdout"
        }
      ]
    },
    {
      "cell_type": "code",
      "metadata": {
        "id": "yvyKnEYSAx5s",
        "colab_type": "code",
        "colab": {}
      },
      "source": [
        "tweet_1=lemmatize_text(str(tweet))\n"
      ],
      "execution_count": null,
      "outputs": []
    },
    {
      "cell_type": "code",
      "metadata": {
        "id": "_9rex4D1Bpfr",
        "colab_type": "code",
        "colab": {
          "base_uri": "https://localhost:8080/",
          "height": 35
        },
        "outputId": "e40b67a6-e3a9-47e7-a7aa-d77241795c52"
      },
      "source": [
        "import gensim.models.keyedvectors as word2vec \n",
        "from keras.models import Sequential\n",
        "from keras.layers.core import Dense, Dropout\n",
        "from keras.layers.embeddings import Embedding\n",
        "from keras.preprocessing.sequence import pad_sequences\n",
        "from keras.preprocessing.text import Tokenizer\n",
        "from keras.layers import LSTM\n",
        "import logging\n",
        "\n",
        "\n",
        "logging.basicConfig(format='%(asctime)s : %(levelname) s : %(message)s', level=logging.INFO)"
      ],
      "execution_count": null,
      "outputs": [
        {
          "output_type": "stream",
          "text": [
            "Using TensorFlow backend.\n"
          ],
          "name": "stderr"
        }
      ]
    },
    {
      "cell_type": "code",
      "metadata": {
        "id": "2qAn6__7BsRQ",
        "colab_type": "code",
        "colab": {}
      },
      "source": [
        "tweet_split=[]\n",
        "for i, line in enumerate(tweet):\n",
        "    #print(line)\n",
        "    tweets = str(line).lower().split()\n",
        "    tweet_split.append(tweet)"
      ],
      "execution_count": null,
      "outputs": []
    },
    {
      "cell_type": "code",
      "metadata": {
        "id": "U0WfWaWlEKZf",
        "colab_type": "code",
        "colab": {}
      },
      "source": [
        "def lower(doc):\n",
        "  return [x.lower() for x in doc]"
      ],
      "execution_count": null,
      "outputs": []
    },
    {
      "cell_type": "code",
      "metadata": {
        "id": "zfxP92zvI8Ay",
        "colab_type": "code",
        "colab": {}
      },
      "source": [
        "tweet=lower(tweet)"
      ],
      "execution_count": null,
      "outputs": []
    },
    {
      "cell_type": "code",
      "metadata": {
        "id": "cXVb-CepJ1zj",
        "colab_type": "code",
        "colab": {
          "base_uri": "https://localhost:8080/",
          "height": 211
        },
        "outputId": "1e443b09-2d44-413b-b996-79ee24577108"
      },
      "source": [
        "for i in range(0,10):\n",
        "  print(tweet[i])"
      ],
      "execution_count": null,
      "outputs": [
        {
          "output_type": "stream",
          "text": [
            "happy  mothersday to all you amazing mothers out there  i know it s hard not being able to see your mothers today but it s on all of us to do what we can to protect the most vulnerable members of our society   beatcoronavirus pic twitter com va nfjfq b\n",
            "happy mothers day mum - i m sorry i can t be there to bring you mothers day flowers   a cwtch - honestly at this point i d walk on hot coals to be able to  but i ll be there with bells on as soon as i can be  love you lots xxx  p s we need more photos   https    photos app goo gl m vxblrsczd te by   \n",
            "happy mothers day to all this doing a mothers days work  today been quiet but had time to reflect  dog walk  finish a jigsaw do the garden  learn few more guitar chords  drunk some strawberry gin and tonic and watch lee evens on dvd  my favourite place to visit   isolate pic twitter com gz xvvf f9\n",
            "happy mothers day to this beautiful woman   royalty soothes you mummy jeremy and emerald and more  prayforroksie  ultimateloveng pic twitter com oeeti  pvv\n",
            "remembering the   most amazing ladies who made me who i am  my late grandmother iris  mum carol and great grandmother ethel  missed but never forgotten  happy mothers day to all those great mums out there  love sent to all xxxx pic twitter com xzzzdeybje\n",
            "happy mother s day  bratz world familiez yasmin   her mum   portia   bratz  bratzworldfamiliez  bratz      bratzkidz  bratzyasmin  bratzportia  theonlygirlswithapassionforfashion  bratzdolls  bratzcollector  happymothersday  mothersday  mothersday      azdoesmakeup pic twitter com  m t  zhpu\n",
            "happy mother s day to all you wonderful mums out there   mothersday  cupcakes  supermums  traceyscakecraft  couturesugarpaste  saracinouk  hinckley   s cakecraft   instagram com p b-cuzhjg-au   igshid lf elmlv q g  \n",
            "show me a mother of two as sexy as rosie happy mothers day beautiful rosie   i love you  happymothersdayrosie  happymothersday      whyiloveroksie  roksie pic twitter com  omzghcive\n",
            "to all the mothers  grandmothers  aunts  sisters and women in our lives who care for and love us unconditionally  happy mothers  day    mothersday pic twitter com ejatt ah z\n",
            "to all the mothers around the world  gas to health initiative wishes them a happy mother s day  -  gthi  mothersday      motheringsunday  mothersday  lpg  motherhood  motherslove  gastohealth  argus  lpgn  nigeria  cookinggas  cooking  mothersdayshoutout  mothers  mama pic twitter com csq joic z\n"
          ],
          "name": "stdout"
        }
      ]
    },
    {
      "cell_type": "code",
      "metadata": {
        "id": "wp37sqRaKLrM",
        "colab_type": "code",
        "colab": {
          "base_uri": "https://localhost:8080/",
          "height": 35
        },
        "outputId": "0d323c47-4959-4b30-e496-38d6f0ec2cfc"
      },
      "source": [
        "vocab_size = 10000\n",
        "embedding_dim = 32\n",
        "max_length = 50\n",
        "trunc_type='post'\n",
        "padding_type='post'\n",
        "oov_tok = \"<OOV>\"\n",
        "tokenizer = Tokenizer(num_words = vocab_size, oov_token=oov_tok)\n",
        "tokenizer.fit_on_texts(tweet)\n",
        "X = tokenizer.texts_to_sequences(tweet)\n",
        "type(X)"
      ],
      "execution_count": null,
      "outputs": [
        {
          "output_type": "execute_result",
          "data": {
            "text/plain": [
              "list"
            ]
          },
          "metadata": {
            "tags": []
          },
          "execution_count": 64
        }
      ]
    },
    {
      "cell_type": "code",
      "metadata": {
        "id": "xOudP5vpKas1",
        "colab_type": "code",
        "colab": {
          "base_uri": "https://localhost:8080/",
          "height": 225
        },
        "outputId": "56287095-5a05-4168-d6a2-3d0171eb2343"
      },
      "source": [
        "maxlentweet = 50\n",
        "X = pad_sequences(X, maxlen=maxlentweet)\n",
        "print(X[0:3])"
      ],
      "execution_count": null,
      "outputs": [
        {
          "output_type": "stream",
          "text": [
            "[[   0    0    0    0    0    0    0    0    0    0    0    0    0    0\n",
            "     0    0    0    0    0    0    5   40   46   38   10   48    9   18\n",
            "    50    1   62  108   21   54    1  696    4  132  833  769   18   35\n",
            "  1122 5246   15   13    8 2596 5247   25]\n",
            " [   0    0    0    0    0    0    0    0    0    0    0    0    0    0\n",
            "     0    0    0    0    0    0   37   34   36 5249   48   57  232   57\n",
            "    16   54   37   23    6  216  205   24   10   21  248  128  518   66\n",
            "   518 1752 5250 2597   64 5251 1506  112]\n",
            " [   0    0    0    0    0    0    0    0    0    0    0    0    0    0\n",
            "     0    0    0    0    0    0  325  914  303  128 3402 5253 2087  134\n",
            "  5254  795    7 2599    7  402 2600 5255   48 3403   17  372  340    1\n",
            "   326 2088   15   13    8 2601 5256 5257]]\n"
          ],
          "name": "stdout"
        }
      ]
    },
    {
      "cell_type": "code",
      "metadata": {
        "id": "TPFACQooKboC",
        "colab_type": "code",
        "colab": {
          "base_uri": "https://localhost:8080/",
          "height": 35
        },
        "outputId": "334b7f26-79a7-4cbe-b364-2560a769c73f"
      },
      "source": [
        "type(X)"
      ],
      "execution_count": null,
      "outputs": [
        {
          "output_type": "execute_result",
          "data": {
            "text/plain": [
              "numpy.ndarray"
            ]
          },
          "metadata": {
            "tags": []
          },
          "execution_count": 60
        }
      ]
    },
    {
      "cell_type": "code",
      "metadata": {
        "id": "TRtMhcRAKpq9",
        "colab_type": "code",
        "colab": {
          "base_uri": "https://localhost:8080/",
          "height": 107
        },
        "outputId": "a06975cb-4b58-4018-d031-dcb7c847332c"
      },
      "source": [
        "w2vModel = word2vec.KeyedVectors.load_word2vec_format('https://s3.amazonaws.com/dl4j-distribution/GoogleNews-vectors-negative300.bin.gz', binary=True, limit=100000)"
      ],
      "execution_count": null,
      "outputs": [
        {
          "output_type": "stream",
          "text": [
            "2020-06-10 16:00:26,177 : INFO : loading projection weights from https://s3.amazonaws.com/dl4j-distribution/GoogleNews-vectors-negative300.bin.gz\n",
            "/usr/local/lib/python3.6/dist-packages/smart_open/smart_open_lib.py:253: UserWarning: This function is deprecated, use smart_open.open instead. See the migration notes for details: https://github.com/RaRe-Technologies/smart_open/blob/master/README.rst#migrating-to-the-new-open-function\n",
            "  'See the migration notes for details: %s' % _MIGRATION_NOTES_URL\n",
            "2020-06-10 16:00:32,644 : INFO : loaded (100000, 300) matrix from https://s3.amazonaws.com/dl4j-distribution/GoogleNews-vectors-negative300.bin.gz\n"
          ],
          "name": "stderr"
        }
      ]
    },
    {
      "cell_type": "code",
      "metadata": {
        "id": "S7AKftTcMSbQ",
        "colab_type": "code",
        "colab": {
          "base_uri": "https://localhost:8080/",
          "height": 72
        },
        "outputId": "6fa56a33-eacd-452f-8c5e-7d41228faafe"
      },
      "source": [
        "embedding_layer = Embedding(input_dim=w2vModel.syn0.shape[0], output_dim=w2vModel.syn0.shape[1], weights=[w2vModel.syn0], \n",
        "                            input_length=X.shape[1])"
      ],
      "execution_count": null,
      "outputs": [
        {
          "output_type": "stream",
          "text": [
            "/usr/local/lib/python3.6/dist-packages/ipykernel_launcher.py:1: DeprecationWarning: Call to deprecated `syn0` (Attribute will be removed in 4.0.0, use self.wv.vectors instead).\n",
            "  \"\"\"Entry point for launching an IPython kernel.\n"
          ],
          "name": "stderr"
        }
      ]
    },
    {
      "cell_type": "code",
      "metadata": {
        "id": "6qGHpbMINpos",
        "colab_type": "code",
        "colab": {
          "base_uri": "https://localhost:8080/",
          "height": 243
        },
        "outputId": "02599ad2-5d7b-481d-fd47-079170687961"
      },
      "source": [
        "df.info()"
      ],
      "execution_count": null,
      "outputs": [
        {
          "output_type": "stream",
          "text": [
            "<class 'pandas.core.frame.DataFrame'>\n",
            "RangeIndex: 3235 entries, 0 to 3234\n",
            "Data columns (total 6 columns):\n",
            " #   Column           Non-Null Count  Dtype  \n",
            "---  ------           --------------  -----  \n",
            " 0   id               3235 non-null   float64\n",
            " 1   original_text    3235 non-null   object \n",
            " 2   lang             3231 non-null   object \n",
            " 3   retweet_count    3231 non-null   object \n",
            " 4   original_author  3235 non-null   object \n",
            " 5   sentiment_class  3235 non-null   int64  \n",
            "dtypes: float64(1), int64(1), object(4)\n",
            "memory usage: 151.8+ KB\n"
          ],
          "name": "stdout"
        }
      ]
    },
    {
      "cell_type": "code",
      "metadata": {
        "id": "HTRlJbQIqdX0",
        "colab_type": "code",
        "colab": {}
      },
      "source": [
        "X_t=X[0:3235]"
      ],
      "execution_count": null,
      "outputs": []
    },
    {
      "cell_type": "code",
      "metadata": {
        "id": "mtqYJ9LB5pw0",
        "colab_type": "code",
        "colab": {}
      },
      "source": [
        "X_Test=X[3235:]"
      ],
      "execution_count": null,
      "outputs": []
    },
    {
      "cell_type": "code",
      "metadata": {
        "id": "r8NqreER5tm6",
        "colab_type": "code",
        "colab": {
          "base_uri": "https://localhost:8080/",
          "height": 35
        },
        "outputId": "2a2051c5-d426-4876-a627-a33ed7bf6634"
      },
      "source": [
        "y=df['sentiment_class']\n",
        "y.isnull().any()"
      ],
      "execution_count": null,
      "outputs": [
        {
          "output_type": "execute_result",
          "data": {
            "text/plain": [
              "False"
            ]
          },
          "metadata": {
            "tags": []
          },
          "execution_count": 122
        }
      ]
    },
    {
      "cell_type": "code",
      "metadata": {
        "id": "w8jT9udw59xz",
        "colab_type": "code",
        "colab": {
          "base_uri": "https://localhost:8080/",
          "height": 419
        },
        "outputId": "f4db7332-db26-4f6a-d569-111f76be8d75"
      },
      "source": [
        "import tensorflow as tf\n",
        "model = tf.keras.Sequential([\n",
        "tf.keras.layers.Embedding(input_dim=w2vModel.syn0.shape[0], output_dim=w2vModel.syn0.shape[1], weights=[w2vModel.syn0], \n",
        "                            input_length=X.shape[1], trainable=False),\n",
        "tf.keras.layers.Bidirectional(tf.keras.layers.LSTM(100,return_sequences=True)),\n",
        "tf.keras.layers.Bidirectional(tf.keras.layers.LSTM(100,return_sequences=True)),\n",
        "tf.keras.layers.Bidirectional(tf.keras.layers.LSTM(100)),\n",
        "tf.keras.layers.Dense(64, activation='relu'),\n",
        "tf.keras.layers.Dense(3,activation='softmax')])\n",
        "model.compile(loss='categorical_crossentropy',optimizer=tf.keras.optimizers.SGD(learning_rate=0.08,momentum=0.85),metrics=['accuracy'])\n",
        "model.summary()"
      ],
      "execution_count": null,
      "outputs": [
        {
          "output_type": "stream",
          "text": [
            "/usr/local/lib/python3.6/dist-packages/ipykernel_launcher.py:3: DeprecationWarning: Call to deprecated `syn0` (Attribute will be removed in 4.0.0, use self.wv.vectors instead).\n",
            "  This is separate from the ipykernel package so we can avoid doing imports until\n"
          ],
          "name": "stderr"
        },
        {
          "output_type": "stream",
          "text": [
            "Model: \"sequential_4\"\n",
            "_________________________________________________________________\n",
            "Layer (type)                 Output Shape              Param #   \n",
            "=================================================================\n",
            "embedding_4 (Embedding)      (None, 50, 300)           30000000  \n",
            "_________________________________________________________________\n",
            "bidirectional_12 (Bidirectio (None, 50, 200)           320800    \n",
            "_________________________________________________________________\n",
            "bidirectional_13 (Bidirectio (None, 50, 200)           240800    \n",
            "_________________________________________________________________\n",
            "bidirectional_14 (Bidirectio (None, 200)               240800    \n",
            "_________________________________________________________________\n",
            "dense_8 (Dense)              (None, 64)                12864     \n",
            "_________________________________________________________________\n",
            "dense_9 (Dense)              (None, 3)                 195       \n",
            "=================================================================\n",
            "Total params: 30,815,459\n",
            "Trainable params: 815,459\n",
            "Non-trainable params: 30,000,000\n",
            "_________________________________________________________________\n"
          ],
          "name": "stdout"
        }
      ]
    },
    {
      "cell_type": "code",
      "metadata": {
        "id": "z-RvgFLX87pn",
        "colab_type": "code",
        "colab": {}
      },
      "source": [
        "\n",
        "from sklearn.preprocessing import LabelEncoder\n",
        "from tensorflow.keras import utils as np_utils\n",
        "encoder = LabelEncoder()\n",
        "encoder.fit(y)\n",
        "encoded_y = encoder.transform(y)\n",
        "# convert integers to dummy variables (i.e. one hot encoded)\n",
        "dummy_y = np_utils.to_categorical(encoded_y)\n",
        "from sklearn.model_selection import train_test_split\n",
        "X_train, X_test, y_train, y_test=train_test_split(X_t,dummy_y,test_size=0.2,random_state=32)"
      ],
      "execution_count": null,
      "outputs": []
    },
    {
      "cell_type": "code",
      "metadata": {
        "id": "HpfplTkGA-FU",
        "colab_type": "code",
        "colab": {
          "base_uri": "https://localhost:8080/",
          "height": 384
        },
        "outputId": "df726a70-dc6c-44f5-eeb1-a344a7a00fc3"
      },
      "source": [
        "\n",
        "history=model.fit(X_train, y_train, epochs=10, validation_data=(X_test,y_test))"
      ],
      "execution_count": null,
      "outputs": [
        {
          "output_type": "stream",
          "text": [
            "Epoch 1/10\n",
            "81/81 [==============================] - 11s 131ms/step - loss: 1.0294 - accuracy: 0.5259 - val_loss: 1.0398 - val_accuracy: 0.5209\n",
            "Epoch 2/10\n",
            "81/81 [==============================] - 8s 104ms/step - loss: 1.0261 - accuracy: 0.5270 - val_loss: 1.0265 - val_accuracy: 0.5209\n",
            "Epoch 3/10\n",
            "81/81 [==============================] - 8s 103ms/step - loss: 1.0242 - accuracy: 0.5270 - val_loss: 1.0254 - val_accuracy: 0.5209\n",
            "Epoch 4/10\n",
            "81/81 [==============================] - 8s 104ms/step - loss: 1.0229 - accuracy: 0.5270 - val_loss: 1.0264 - val_accuracy: 0.5209\n",
            "Epoch 5/10\n",
            "81/81 [==============================] - 8s 105ms/step - loss: 1.0234 - accuracy: 0.5270 - val_loss: 1.0242 - val_accuracy: 0.5209\n",
            "Epoch 6/10\n",
            "81/81 [==============================] - 8s 104ms/step - loss: 1.0215 - accuracy: 0.5270 - val_loss: 1.0270 - val_accuracy: 0.5209\n",
            "Epoch 7/10\n",
            "81/81 [==============================] - 8s 105ms/step - loss: 1.0207 - accuracy: 0.5270 - val_loss: 1.0252 - val_accuracy: 0.5209\n",
            "Epoch 8/10\n",
            "81/81 [==============================] - 8s 104ms/step - loss: 1.0252 - accuracy: 0.5270 - val_loss: 1.0266 - val_accuracy: 0.5209\n",
            "Epoch 9/10\n",
            "81/81 [==============================] - 8s 105ms/step - loss: 1.0212 - accuracy: 0.5270 - val_loss: 1.0273 - val_accuracy: 0.5209\n",
            "Epoch 10/10\n",
            "81/81 [==============================] - 8s 105ms/step - loss: 1.0226 - accuracy: 0.5270 - val_loss: 1.0326 - val_accuracy: 0.5209\n"
          ],
          "name": "stdout"
        }
      ]
    },
    {
      "cell_type": "code",
      "metadata": {
        "id": "7zPGKXxNBxfM",
        "colab_type": "code",
        "colab": {}
      },
      "source": [
        "ans=model.predict(X_Test)"
      ],
      "execution_count": null,
      "outputs": []
    },
    {
      "cell_type": "code",
      "metadata": {
        "id": "W67QjG_UILtf",
        "colab_type": "code",
        "colab": {
          "base_uri": "https://localhost:8080/",
          "height": 139
        },
        "outputId": "2add806a-bd4d-470b-8df9-3ba6f44715ab"
      },
      "source": [
        "ans"
      ],
      "execution_count": null,
      "outputs": [
        {
          "output_type": "execute_result",
          "data": {
            "text/plain": [
              "array([[0.23032628, 0.5725893 , 0.19708449],\n",
              "       [0.2298822 , 0.57348955, 0.19662823],\n",
              "       [0.22988108, 0.5734659 , 0.19665301],\n",
              "       ...,\n",
              "       [0.22998585, 0.5732924 , 0.1967218 ],\n",
              "       [0.22998358, 0.57325315, 0.19676325],\n",
              "       [0.2298988 , 0.5734125 , 0.19668877]], dtype=float32)"
            ]
          },
          "metadata": {
            "tags": []
          },
          "execution_count": 243
        }
      ]
    },
    {
      "cell_type": "code",
      "metadata": {
        "id": "W_AUSNjsIVmY",
        "colab_type": "code",
        "colab": {}
      },
      "source": [
        "N = []\n",
        "n=0\n",
        "for i in ans:\n",
        "  if (i[1]>=0.5):\n",
        "    N.append(int(0))\n",
        "  elif i[0]>i[2]:\n",
        "    N.append(int(-1))\n",
        "  else:\n",
        "    N.append(int(1))"
      ],
      "execution_count": null,
      "outputs": []
    },
    {
      "cell_type": "code",
      "metadata": {
        "id": "m9vsywDTJHFr",
        "colab_type": "code",
        "colab": {
          "base_uri": "https://localhost:8080/",
          "height": 662
        },
        "outputId": "34ef7504-91e5-4d77-a677-4b1417634a9a"
      },
      "source": [
        "t.head(20)"
      ],
      "execution_count": null,
      "outputs": [
        {
          "output_type": "execute_result",
          "data": {
            "text/html": [
              "<div>\n",
              "<style scoped>\n",
              "    .dataframe tbody tr th:only-of-type {\n",
              "        vertical-align: middle;\n",
              "    }\n",
              "\n",
              "    .dataframe tbody tr th {\n",
              "        vertical-align: top;\n",
              "    }\n",
              "\n",
              "    .dataframe thead th {\n",
              "        text-align: right;\n",
              "    }\n",
              "</style>\n",
              "<table border=\"1\" class=\"dataframe\">\n",
              "  <thead>\n",
              "    <tr style=\"text-align: right;\">\n",
              "      <th></th>\n",
              "      <th>id</th>\n",
              "      <th>sentiment_class</th>\n",
              "    </tr>\n",
              "  </thead>\n",
              "  <tbody>\n",
              "    <tr>\n",
              "      <th>0</th>\n",
              "      <td>1.246628e+18</td>\n",
              "      <td>0</td>\n",
              "    </tr>\n",
              "    <tr>\n",
              "      <th>1</th>\n",
              "      <td>1.245898e+18</td>\n",
              "      <td>0</td>\n",
              "    </tr>\n",
              "    <tr>\n",
              "      <th>2</th>\n",
              "      <td>1.244717e+18</td>\n",
              "      <td>0</td>\n",
              "    </tr>\n",
              "    <tr>\n",
              "      <th>3</th>\n",
              "      <td>1.245730e+18</td>\n",
              "      <td>0</td>\n",
              "    </tr>\n",
              "    <tr>\n",
              "      <th>4</th>\n",
              "      <td>1.244636e+18</td>\n",
              "      <td>0</td>\n",
              "    </tr>\n",
              "    <tr>\n",
              "      <th>5</th>\n",
              "      <td>1.244048e+18</td>\n",
              "      <td>0</td>\n",
              "    </tr>\n",
              "    <tr>\n",
              "      <th>6</th>\n",
              "      <td>1.243919e+18</td>\n",
              "      <td>0</td>\n",
              "    </tr>\n",
              "    <tr>\n",
              "      <th>7</th>\n",
              "      <td>1.246245e+18</td>\n",
              "      <td>0</td>\n",
              "    </tr>\n",
              "    <tr>\n",
              "      <th>8</th>\n",
              "      <td>1.246139e+18</td>\n",
              "      <td>0</td>\n",
              "    </tr>\n",
              "    <tr>\n",
              "      <th>9</th>\n",
              "      <td>1.244255e+18</td>\n",
              "      <td>0</td>\n",
              "    </tr>\n",
              "    <tr>\n",
              "      <th>10</th>\n",
              "      <td>1.244233e+18</td>\n",
              "      <td>0</td>\n",
              "    </tr>\n",
              "    <tr>\n",
              "      <th>11</th>\n",
              "      <td>1.244249e+18</td>\n",
              "      <td>0</td>\n",
              "    </tr>\n",
              "    <tr>\n",
              "      <th>12</th>\n",
              "      <td>1.245385e+18</td>\n",
              "      <td>0</td>\n",
              "    </tr>\n",
              "    <tr>\n",
              "      <th>13</th>\n",
              "      <td>1.245410e+18</td>\n",
              "      <td>0</td>\n",
              "    </tr>\n",
              "    <tr>\n",
              "      <th>14</th>\n",
              "      <td>1.245083e+18</td>\n",
              "      <td>0</td>\n",
              "    </tr>\n",
              "    <tr>\n",
              "      <th>15</th>\n",
              "      <td>1.246114e+18</td>\n",
              "      <td>0</td>\n",
              "    </tr>\n",
              "    <tr>\n",
              "      <th>16</th>\n",
              "      <td>1.244642e+18</td>\n",
              "      <td>0</td>\n",
              "    </tr>\n",
              "    <tr>\n",
              "      <th>17</th>\n",
              "      <td>1.245881e+18</td>\n",
              "      <td>0</td>\n",
              "    </tr>\n",
              "    <tr>\n",
              "      <th>18</th>\n",
              "      <td>1.246143e+18</td>\n",
              "      <td>0</td>\n",
              "    </tr>\n",
              "    <tr>\n",
              "      <th>19</th>\n",
              "      <td>1.244614e+18</td>\n",
              "      <td>0</td>\n",
              "    </tr>\n",
              "  </tbody>\n",
              "</table>\n",
              "</div>"
            ],
            "text/plain": [
              "              id  sentiment_class\n",
              "0   1.246628e+18                0\n",
              "1   1.245898e+18                0\n",
              "2   1.244717e+18                0\n",
              "3   1.245730e+18                0\n",
              "4   1.244636e+18                0\n",
              "5   1.244048e+18                0\n",
              "6   1.243919e+18                0\n",
              "7   1.246245e+18                0\n",
              "8   1.246139e+18                0\n",
              "9   1.244255e+18                0\n",
              "10  1.244233e+18                0\n",
              "11  1.244249e+18                0\n",
              "12  1.245385e+18                0\n",
              "13  1.245410e+18                0\n",
              "14  1.245083e+18                0\n",
              "15  1.246114e+18                0\n",
              "16  1.244642e+18                0\n",
              "17  1.245881e+18                0\n",
              "18  1.246143e+18                0\n",
              "19  1.244614e+18                0"
            ]
          },
          "metadata": {
            "tags": []
          },
          "execution_count": 203
        }
      ]
    },
    {
      "cell_type": "code",
      "metadata": {
        "id": "idHMShwmMAsC",
        "colab_type": "code",
        "colab": {}
      },
      "source": [
        "t.to_csv('Check.csv', header=True, index=False)"
      ],
      "execution_count": null,
      "outputs": []
    }
  ]
}